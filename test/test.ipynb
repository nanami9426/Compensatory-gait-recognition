{
 "cells": [
  {
   "cell_type": "code",
   "execution_count": 1,
   "id": "4d3a7351-5092-4de2-b9b7-8629085cf1c8",
   "metadata": {},
   "outputs": [],
   "source": [
    "import torch\n",
    "from torch import nn"
   ]
  },
  {
   "cell_type": "code",
   "execution_count": 103,
   "id": "b98694ca-161e-4f73-92b1-3a39c563be71",
   "metadata": {},
   "outputs": [],
   "source": [
    "# InputShape([window_size, 17, 2]) \n",
    "# 批量：1，帧数：window_size，输入维度：17*2\n",
    "class Pnet(nn.Module):\n",
    "    def __init__(self, window_size, num_hiddens, num_layers):\n",
    "        super().__init__()\n",
    "        self.window_size = window_size\n",
    "        self.encoder = nn.LSTM(17 * 2, num_hiddens, num_layers=num_layers, bidirectional=False)\n",
    "        self.decoder = nn.Linear(num_hiddens, 2)\n",
    "    def forward(self, x):\n",
    "        x = x.reshape(self.window_size, -1).unsqueeze(1)\n",
    "        _, state = self.encoder(x)\n",
    "        res = self.decoder(state[0][-1])\n",
    "        return res"
   ]
  },
  {
   "cell_type": "code",
   "execution_count": 104,
   "id": "a1e44b17-a6ca-461a-9754-86d8ee84924b",
   "metadata": {},
   "outputs": [],
   "source": [
    "net = Pnet(24, 128, 2)"
   ]
  },
  {
   "cell_type": "code",
   "execution_count": 105,
   "id": "1d747403-16a4-4230-bab9-5b29f4b954a2",
   "metadata": {},
   "outputs": [],
   "source": [
    "x = torch.randn(24, 17, 2)\n",
    "res = net(x)"
   ]
  },
  {
   "cell_type": "code",
   "execution_count": 106,
   "id": "13600560-5042-4679-9baf-0d16160973f3",
   "metadata": {},
   "outputs": [
    {
     "data": {
      "text/plain": [
       "tensor([[-0.0721, -0.1079]], grad_fn=<AddmmBackward0>)"
      ]
     },
     "execution_count": 106,
     "metadata": {},
     "output_type": "execute_result"
    }
   ],
   "source": [
    "res"
   ]
  },
  {
   "cell_type": "code",
   "execution_count": 167,
   "id": "6e4a93e3-6e99-4974-b31e-0cf0f8fae06b",
   "metadata": {},
   "outputs": [
    {
     "data": {
      "text/plain": [
       "tensor([9])"
      ]
     },
     "execution_count": 167,
     "metadata": {},
     "output_type": "execute_result"
    }
   ],
   "source": []
  },
  {
   "cell_type": "code",
   "execution_count": null,
   "id": "3fd05e0e-f611-4516-b7a5-6934294f770d",
   "metadata": {},
   "outputs": [],
   "source": []
  }
 ],
 "metadata": {
  "kernelspec": {
   "display_name": "torch",
   "language": "python",
   "name": "torch"
  },
  "language_info": {
   "codemirror_mode": {
    "name": "ipython",
    "version": 3
   },
   "file_extension": ".py",
   "mimetype": "text/x-python",
   "name": "python",
   "nbconvert_exporter": "python",
   "pygments_lexer": "ipython3",
   "version": "3.10.14"
  }
 },
 "nbformat": 4,
 "nbformat_minor": 5
}
